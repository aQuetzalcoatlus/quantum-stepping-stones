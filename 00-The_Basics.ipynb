{
 "cells": [
  {
   "cell_type": "markdown",
   "id": "f7ac38c2",
   "metadata": {},
   "source": [
    "# From classical to quantum repetition codes"
   ]
  },
  {
   "cell_type": "markdown",
   "id": "5faf0e8f",
   "metadata": {},
   "source": [
    "## 1. The 3-bit classical correction"
   ]
  },
  {
   "cell_type": "markdown",
   "id": "022fbdc4",
   "metadata": {},
   "source": [
    "The most straight-forward way of implementing error-correction is to make three copies of the information (bit) that we wish to protect from  errors.\n",
    "So $0$ gets mapped as $000$ (called a *logical* 0) and $1$ gets mapped as $111$ (*logical* 1). This assumes that the probability $p$ of a bit-flip is low enough that the required information can be recovered back to the single bit by simply looking at the majority. So if one obtains $101$ as the output bit, from the majority we see that $1$ is the intended bit of information. \n",
    "\n",
    "The critical requirement for this \"majority vote\" to work is that the probability of a bit flip $p$ remains low. We see why in the following demonstration."
   ]
  },
  {
   "cell_type": "markdown",
   "id": "a3191eab",
   "metadata": {},
   "source": [
    "### Example: Error rates with increasing probability\n",
    "\n",
    "For a given \"bit\" of information, we first encode the corresponding logical bit by repeating it 3 times. Then we simulate an error by flipping the 3 bits with a probability $p$, and decode with a majority vote.\n",
    "\n",
    "Given the probability of a bit flip $p$, the probability that two or more of the bits are flipped is given by:\n",
    "$$ \\underbrace{p\\cdot p \\cdot (1-p) + p\\cdot (1-p)\\cdot p + (1-p)\\cdot p \\cdot p}_{\\text{probability of exactly two bit-flips}} + \\underbrace{p^3}_{\\text{probability of all three bits flipping}} $$"
   ]
  },
  {
   "cell_type": "code",
   "execution_count": 1,
   "id": "558f23fe",
   "metadata": {},
   "outputs": [],
   "source": [
    "from pathlib import Path\n",
    "\n",
    "import matplotlib.pyplot as plt\n",
    "import numpy as np\n"
   ]
  },
  {
   "cell_type": "code",
   "execution_count": null,
   "id": "0c2a65eb",
   "metadata": {},
   "outputs": [],
   "source": [
    "def flip_bit(bit: str) -> str:\n",
    "    return \"1\" if bit == \"0\" else \"0\"\n",
    "\n",
    "def flip_bitstring(bitstring: str, probability: float) -> None:\n",
    "    \"\"\"Flip each bit of the given bitstring with the given probability.\"\"\"\n",
    "    flipped_bitstring: str = \"\"\n",
    "\n",
    "    for bit in bitstring:\n",
    "        if np.random.rand() < probability:\n",
    "            flipped_bitstring += flip_bit(bit)\n",
    "        else:\n",
    "            flipped_bitstring += bit\n",
    "\n",
    "    return flipped_bitstring\n",
    "\n",
    "def majority_vote(bitstring: str) -> str:\n",
    "    \"\"\"Return the majority bit out of a given bitstring.\"\"\"\n",
    "    if len(bitstring)%2 == 0:\n",
    "        print(\"Bitstring should have odd length for majority vote\")\n",
    "    ones_count: int = bitstring.count(\"1\")\n",
    "    zeros_count: int = bitstring.count(\"0\")\n",
    "\n",
    "    if ones_count > zeros_count:\n",
    "        return \"1\"\n",
    "    elif zeros_count > ones_count:\n",
    "        return \"0\"\n",
    "    return None\n",
    "\n",
    "def error_sim_routine(bit: str, repeat_num: int = 3, probability: float = 0.3) -> str:\n",
    "    \"\"\"Run a full repetition error-correction routine.\"\"\"\n",
    "    repeated: str = bit * repeat_num\n",
    "    after_error: str = flip_bitstring(repeated, probability)\n",
    "    output_bit: str = majority_vote(after_error)\n",
    "\n",
    "    return output_bit\n",
    "\n",
    "def logical_error_rate(bit: str, repeat_num: int, probability: float, trials: int = 10_000) -> float:\n",
    "    \"\"\"Determine the logical error rate for a given probability, after a specified number of trials.\"\"\"\n",
    "    errors = 0\n",
    "    for _ in range(trials):\n",
    "        decoded: str = error_sim_routine(bit, repeat_num, probability)\n",
    "        if decoded != bit:\n",
    "            errors += 1\n",
    "    return errors / trials\n",
    "\n",
    "def logical_error_rate_theo(probability: float) -> float:\n",
    "    \"\"\"The logical error rate calculated analytically.\"\"\"\n",
    "    return 3*(probability**2) - 2*(probability**3)"
   ]
  },
  {
   "cell_type": "code",
   "execution_count": 3,
   "id": "90f654a3",
   "metadata": {},
   "outputs": [],
   "source": [
    "p_vals: np.ndarray = np.linspace(0, 0.99, 100)\n",
    "rates: list[float] = [logical_error_rate(\"0\", 3, p) for p in p_vals]\n",
    "rates_ideal: list[float] = [logical_error_rate_theo(p) for p in p_vals]"
   ]
  },
  {
   "cell_type": "code",
   "execution_count": 52,
   "id": "6527886e",
   "metadata": {},
   "outputs": [],
   "source": [
    "cwd: Path = Path.cwd()\n",
    "# %matplotlib inline\n",
    "with plt.xkcd():\n",
    "    plt.rcParams[\"font.family\"] = \"Humor Sans\"   # force this font\n",
    "    fig_test, ax_test = plt.subplots(1,1)\n",
    "\n",
    "    ax_test.plot(p_vals, rates_ideal, color=\"C1\", label=r\"Theoretical: $3p^2 - 2p^3$\", zorder=1)\n",
    "    ax_test.scatter(p_vals, rates, alpha=0.5, s=10, label=r\"Data from simulation\")\n",
    "    ax_test.set_ylabel(\"Logical error rate (10,000 trials)\")\n",
    "    ax_test.set_xlabel(\"Probability\")\n",
    "    ax_test.vlines(x=0.5,ymin=0,ymax=1, linestyles='--', colors=\"C3\", label=r\"$p = 0.5$\")\n",
    "\n",
    "    ax_test.legend(loc=\"lower right\")\n",
    "    # fig_test.show()\n",
    "    fig_test.suptitle(\"Logical error rates: 3-bit repetition code\")\n",
    "    fig_test.savefig(cwd / \"plots\" / \"classical_error_rates.png\", dpi=300)\n",
    "\n",
    "# fig_test.show();\n",
    "# plt.show()"
   ]
  },
  {
   "cell_type": "markdown",
   "id": "b485b817",
   "metadata": {},
   "source": [
    "As we can see from the image below,the error rates (i.e., probability of getting the wrong bit out after majority vote) grows faster after around $p=0.5$.\n",
    "\n",
    "<img src=plots/classical_error_rates.png width=500>"
   ]
  },
  {
   "cell_type": "markdown",
   "id": "fc259419",
   "metadata": {},
   "source": [
    "## 2. The 3-qubit bit-flip correction"
   ]
  },
  {
   "cell_type": "code",
   "execution_count": 29,
   "id": "7f486e20",
   "metadata": {},
   "outputs": [],
   "source": [
    "from qiskit import QuantumCircuit, transpile\n",
    "from qiskit_aer import AerSimulator   # requires qiskit-aer >= 0.15"
   ]
  },
  {
   "cell_type": "code",
   "execution_count": 147,
   "id": "20ba0ef4",
   "metadata": {},
   "outputs": [],
   "source": [
    "def encode_bitflip(qc=None) -> QuantumCircuit:\n",
    "    if not qc:\n",
    "        qc = QuantumCircuit(3)\n",
    "    # Assume qubit 0 holds the original |ψ⟩, qubits 1 and 2 start in |0⟩\n",
    "    qc.cx(0, 1)  # copy state into qubit 1\n",
    "    qc.cx(0, 2)  # copy state into qubit 2\n",
    "    return qc"
   ]
  },
  {
   "cell_type": "code",
   "execution_count": 148,
   "id": "c6c84c14",
   "metadata": {},
   "outputs": [
    {
     "data": {
      "image/png": "[encoded data removed]",
      "text/plain": [
       "<Figure size 287.496x284.278 with 1 Axes>"
      ]
     },
     "execution_count": 148,
     "metadata": {},
     "output_type": "execute_result"
    }
   ],
   "source": [
    "qc_encode = encode_bitflip()\n",
    "qc_encode.draw(\"mpl\")"
   ]
  },
  {
   "cell_type": "markdown",
   "id": "7a58ee20",
   "metadata": {},
   "source": [
    "Let's try to measure the output of the circuit to check if this indeed encodes the repetition code."
   ]
  },
  {
   "cell_type": "code",
   "execution_count": null,
   "id": "2fcc9c67",
   "metadata": {},
   "outputs": [
    {
     "name": "stdout",
     "output_type": "stream",
     "text": [
      "Input: |000>, Output:  {'000': 10000}\n"
     ]
    }
   ],
   "source": [
    "qc_encode.measure_all()\n",
    "sim = AerSimulator()\n",
    "\n",
    "# transpile the circuit for the chosen backend (qiskit aer)\n",
    "tqc: QuantumCircuit = transpile(qc_encode, sim)\n",
    "\n",
    "# create a job\n",
    "job = sim.run(tqc, shots=10_000)\n",
    "\n",
    "# define result object\n",
    "result = job.result()\n",
    "\n",
    "# result.get_counts returns a dict like {'010': 1}\n",
    "counts: dict = result.get_counts()\n",
    "print(\"Input: |000>, Output: \",counts)"
   ]
  },
  {
   "cell_type": "markdown",
   "id": "2d2c5746",
   "metadata": {},
   "source": [
    "How about with all \"1\" input?"
   ]
  },
  {
   "cell_type": "code",
   "execution_count": 163,
   "id": "88b7f121",
   "metadata": {},
   "outputs": [
    {
     "data": {
      "image/png": "[encoded data removed]",
      "text/plain": [
       "<Figure size 831.22x367.889 with 1 Axes>"
      ]
     },
     "execution_count": 163,
     "metadata": {},
     "output_type": "execute_result"
    }
   ],
   "source": [
    "qc_encode_1: QuantumCircuit = QuantumCircuit(3)\n",
    "qc_encode_1.x(0)\n",
    "qc_encode_1.barrier()\n",
    "qc_encode_1 = encode_bitflip(qc_encode_1)\n",
    "qc_encode_1.measure_all()\n",
    "qc_encode_1.draw(\"mpl\")\n"
   ]
  },
  {
   "cell_type": "code",
   "execution_count": 166,
   "id": "887e0393",
   "metadata": {},
   "outputs": [
    {
     "name": "stdout",
     "output_type": "stream",
     "text": [
      "Input: |111>, Output:  {'111': 10000}\n"
     ]
    }
   ],
   "source": [
    "sim = AerSimulator()\n",
    "tqc: QuantumCircuit = transpile(qc_encode_1, sim)     # always transpile for the chosen backend\n",
    "job = sim.run(tqc, shots=10_000)\n",
    "result = job.result()\n",
    "# result.get_counts returns a dict like {'010': 1}\n",
    "counts = result.get_counts()\n",
    "print(\"Input: |111>, Output: \",counts)"
   ]
  },
  {
   "cell_type": "markdown",
   "id": "91dbf23b",
   "metadata": {},
   "source": [
    "So we see that our circuit does indeed re-create the 3-bit repetition code, *without* the state of the qubit being \"copied\" (which quantum mechanics forbids)."
   ]
  },
  {
   "cell_type": "code",
   "execution_count": 167,
   "id": "37811395",
   "metadata": {},
   "outputs": [],
   "source": [
    "def apply_bitflip_noise(qc: QuantumCircuit, p: float) -> QuantumCircuit:\n",
    "    noisy_qc: QuantumCircuit = qc.copy()\n",
    "    for qubit in range(3):\n",
    "        if np.random.rand() < p:\n",
    "            noisy_qc.x(qubit)  # flip with probability p\n",
    "    return noisy_qc\n",
    "\n",
    "def add_measurements_in_place(qc: QuantumCircuit) -> None:\n",
    "    print(qc)\n",
    "    qc.measure([0, 1, 2], [0, 1, 2])   # map q0->c0, q1->c1, q2->c2"
   ]
  },
  {
   "cell_type": "code",
   "execution_count": 169,
   "id": "b64dc7d1",
   "metadata": {},
   "outputs": [],
   "source": [
    "def run_one_trial(p: float, qc: QuantumCircuit = None) -> str:\n",
    "    sim = AerSimulator()\n",
    "    \"\"\"Builds: encode → noise → measure, runs one shot, returns a 3-bit string like '010'.\"\"\"\n",
    "    qc_encoded: QuantumCircuit = encode_bitflip(qc)\n",
    "    qc_noisy = apply_bitflip_noise(qc_encoded, p)\n",
    "    qc_noisy.measure_all()\n",
    "\n",
    "    tqc: QuantumCircuit = transpile(qc_noisy, sim)     # always transpile for the chosen backend\n",
    "    job = sim.run(tqc, shots=1)\n",
    "    result = job.result()\n",
    "    # result.get_counts returns a dict like {'010': 1}\n",
    "    counts = result.get_counts()\n",
    "    (bitstring, _shots), = counts.items()    # unpack the single outcome\n",
    "    # counts bit order matches classical bits [c0,c1,c2] => string like '010'\n",
    "    return bitstring"
   ]
  },
  {
   "cell_type": "code",
   "execution_count": 182,
   "id": "0023bd15",
   "metadata": {},
   "outputs": [
    {
     "data": {
      "text/plain": [
       "'0'"
      ]
     },
     "execution_count": 182,
     "metadata": {},
     "output_type": "execute_result"
    }
   ],
   "source": [
    "majority_vote(run_one_trial(0.3))"
   ]
  }
 ],
 "metadata": {
  "kernelspec": {
   "display_name": "qec-learn",
   "language": "python",
   "name": "python3"
  },
  "language_info": {
   "codemirror_mode": {
    "name": "ipython",
    "version": 3
   },
   "file_extension": ".py",
   "mimetype": "text/x-python",
   "name": "python",
   "nbconvert_exporter": "python",
   "pygments_lexer": "ipython3",
   "version": "3.13.5"
  }
 },
 "nbformat": 4,
 "nbformat_minor": 5
}
